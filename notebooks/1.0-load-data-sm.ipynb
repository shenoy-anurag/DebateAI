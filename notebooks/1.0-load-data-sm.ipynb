{
 "cells": [
  {
   "cell_type": "code",
   "execution_count": 1,
   "metadata": {},
   "outputs": [],
   "source": [
    "import os\n",
    "import shutil\n",
    "import weaviate\n",
    "from weaviate.classes.config import Configure\n",
    "from langchain_community.document_loaders import PyPDFLoader, TextLoader, JSONLoader\n",
    "from langchain.text_splitter import RecursiveCharacterTextSplitter\n",
    "from langchain_weaviate.vectorstores import WeaviateVectorStore\n",
    "from langchain_ollama import OllamaEmbeddings"
   ]
  },
  {
   "cell_type": "code",
   "execution_count": 2,
   "metadata": {},
   "outputs": [],
   "source": [
    "DATA_DIR = '../data'\n",
    "\n",
    "UPLOAD_DIR = \"uploads\"\n",
    "\n",
    "UPLOAD_PATH = os.path.join(DATA_DIR, UPLOAD_DIR)\n",
    "\n",
    "os.makedirs(UPLOAD_PATH, exist_ok=True)"
   ]
  },
  {
   "cell_type": "code",
   "execution_count": 34,
   "metadata": {},
   "outputs": [],
   "source": [
    "def process_files(file_path):\n",
    "    docs = []\n",
    "\n",
    "    file_name = file_path.rsplit('/', 1)[1]\n",
    "    try:\n",
    "        print(f\"🔍 Processing file: {file_path}\")\n",
    "\n",
    "        if file_name.endswith(\".pdf\"):\n",
    "            loader = PyPDFLoader(file_path)\n",
    "        elif file_name.endswith(\".txt\"):\n",
    "            loader = TextLoader(file_path, encoding=\"utf-8\")\n",
    "        elif file_name.endswith(\".json\"):\n",
    "            # loader = JSONLoader(file_path, jq_schema='{question: .[].question, answer: .[].answer}')\n",
    "            loader = JSONLoader(file_path, jq_schema='.[].answer')\n",
    "        else:\n",
    "            print(f\"⚠️ Skipping unsupported file: {file_name}\")\n",
    "            return\n",
    "\n",
    "        loaded_docs = loader.load()\n",
    "        print(f\"✅ Successfully loaded {file_name}\")\n",
    "\n",
    "        docs.extend(loaded_docs)\n",
    "\n",
    "    except Exception as e:\n",
    "        print(f\"❌ Error loading {file_name}: {str(e)}\")\n",
    "\n",
    "    if not docs:\n",
    "        print(\"❌ No valid documents found!\")\n",
    "        return\n",
    "\n",
    "    return docs"
   ]
  },
  {
   "cell_type": "code",
   "execution_count": 35,
   "metadata": {},
   "outputs": [
    {
     "name": "stdout",
     "output_type": "stream",
     "text": [
      "🔍 Processing file: ../data/solar-system.json\n",
      "✅ Successfully loaded solar-system.json\n"
     ]
    }
   ],
   "source": [
    "file_path = os.path.join(DATA_DIR, 'solar-system.json')\n",
    "docs = process_files(file_path)"
   ]
  },
  {
   "cell_type": "code",
   "execution_count": 37,
   "metadata": {},
   "outputs": [
    {
     "data": {
      "text/plain": [
       "[Document(metadata={'source': '/Users/anurags/Projects/PersonalProjects/book-rag/data/solar-system.json', 'seq_num': 1}, page_content='The reddish color is from the rocks that contain iron.'),\n",
       " Document(metadata={'source': '/Users/anurags/Projects/PersonalProjects/book-rag/data/solar-system.json', 'seq_num': 2}, page_content='The moon casts a shadow on the Earth.'),\n",
       " Document(metadata={'source': '/Users/anurags/Projects/PersonalProjects/book-rag/data/solar-system.json', 'seq_num': 3}, page_content='It is Uranus.'),\n",
       " Document(metadata={'source': '/Users/anurags/Projects/PersonalProjects/book-rag/data/solar-system.json', 'seq_num': 4}, page_content='There are 7 large groups.'),\n",
       " Document(metadata={'source': '/Users/anurags/Projects/PersonalProjects/book-rag/data/solar-system.json', 'seq_num': 5}, page_content='Jupiter, Saturn, Uranus, Neptune, and Pluto are the 5 outer planets.'),\n",
       " Document(metadata={'source': '/Users/anurags/Projects/PersonalProjects/book-rag/data/solar-system.json', 'seq_num': 6}, page_content='Three quarters of the Earth is covered with water.'),\n",
       " Document(metadata={'source': '/Users/anurags/Projects/PersonalProjects/book-rag/data/solar-system.json', 'seq_num': 7}, page_content=\"It's a star.\"),\n",
       " Document(metadata={'source': '/Users/anurags/Projects/PersonalProjects/book-rag/data/solar-system.json', 'seq_num': 8}, page_content='It is found beyond Pluto.'),\n",
       " Document(metadata={'source': '/Users/anurags/Projects/PersonalProjects/book-rag/data/solar-system.json', 'seq_num': 9}, page_content='It is found in the lower part of atmosphere, all of the hydrosphere, and the upper part of the lithosphere.'),\n",
       " Document(metadata={'source': '/Users/anurags/Projects/PersonalProjects/book-rag/data/solar-system.json', 'seq_num': 10}, page_content=\"It has a thin atmosphere that can't burn up meteors.\"),\n",
       " Document(metadata={'source': '/Users/anurags/Projects/PersonalProjects/book-rag/data/solar-system.json', 'seq_num': 11}, page_content='It is Mercury.'),\n",
       " Document(metadata={'source': '/Users/anurags/Projects/PersonalProjects/book-rag/data/solar-system.json', 'seq_num': 12}, page_content='It is Mercury.'),\n",
       " Document(metadata={'source': '/Users/anurags/Projects/PersonalProjects/book-rag/data/solar-system.json', 'seq_num': 13}, page_content='Jupiter, Saturn, Uranus, and Neptune have rings.'),\n",
       " Document(metadata={'source': '/Users/anurags/Projects/PersonalProjects/book-rag/data/solar-system.json', 'seq_num': 14}, page_content='Jupiter has a small core and has a thick layer of gas around it.'),\n",
       " Document(metadata={'source': '/Users/anurags/Projects/PersonalProjects/book-rag/data/solar-system.json', 'seq_num': 15}, page_content='It is gravity that holds the planets in place.')]"
      ]
     },
     "metadata": {},
     "output_type": "display_data"
    },
    {
     "data": {
      "text/plain": [
       "20"
      ]
     },
     "metadata": {},
     "output_type": "display_data"
    }
   ],
   "source": [
    "display(docs[:15])\n",
    "display(len(docs))"
   ]
  },
  {
   "cell_type": "code",
   "execution_count": 38,
   "metadata": {},
   "outputs": [],
   "source": [
    "weaviate_client = weaviate.connect_to_local()\n",
    "\n",
    "embeddings = OllamaEmbeddings(\n",
    "    model=\"nomic-embed-text\",\n",
    ")"
   ]
  },
  {
   "cell_type": "code",
   "execution_count": 20,
   "metadata": {},
   "outputs": [
    {
     "name": "stdout",
     "output_type": "stream",
     "text": [
      "[-0.0005777967, 0.009332829, 0.0055234805]\n"
     ]
    }
   ],
   "source": [
    "input_text = \"The meaning of life is 42\"\n",
    "vector = embeddings.embed_query(input_text)\n",
    "print(vector[:3])"
   ]
  },
  {
   "cell_type": "code",
   "execution_count": 39,
   "metadata": {},
   "outputs": [],
   "source": [
    "def update_vector_store(client, embeddings, documents, tenant = None):\n",
    "    text_splitter = RecursiveCharacterTextSplitter(\n",
    "        chunk_size=500, chunk_overlap=50)\n",
    "    docs = text_splitter.split_documents(documents)\n",
    "    \n",
    "    print(\"✅ text splitting done\")\n",
    "\n",
    "    # db = WeaviateVectorStore.from_documents(\n",
    "    #     docs, embeddings, client=weaviate_client)\n",
    "    db_with_mt = WeaviateVectorStore.from_documents(\n",
    "        docs, embeddings, client=client, tenant=tenant\n",
    "    )\n",
    "\n",
    "    # genetics = weaviate_client.collections.create(\n",
    "    #     name=\"Genetics\",\n",
    "    #     vectorizer_config=Configure.Vectorizer.text2vec_ollama(     # Configure the Ollama embedding integration\n",
    "    #         # Allow Weaviate from within a Docker container to contact your Ollama instance\n",
    "    #         api_endpoint=\"http://host.docker.internal:11434\",\n",
    "    #         model=\"nomic-embed-text\",                               # The model to use\n",
    "    #     ),\n",
    "    #     generative_config=Configure.Generative.ollama(              # Configure the Ollama generative integration\n",
    "    #         # Allow Weaviate from within a Docker container to contact your Ollama instance\n",
    "    #         api_endpoint=\"http://host.docker.internal:11434\",\n",
    "    #         model=\"llama3.2\",                                       # The model to use\n",
    "    #     )\n",
    "    # )\n",
    "\n",
    "    print(\"✅ Knowledge base updated successfully!\")\n",
    "    return db_with_mt\n"
   ]
  },
  {
   "cell_type": "code",
   "execution_count": 40,
   "metadata": {},
   "outputs": [
    {
     "name": "stdout",
     "output_type": "stream",
     "text": [
      "✅ text splitting done\n"
     ]
    },
    {
     "name": "stderr",
     "output_type": "stream",
     "text": [
      "2025-Mar-01 10:32 PM - langchain_weaviate.vectorstores - INFO - Tenant solar-system does not exist in index LangChain_0b0b3243518a4c268131915f0ebe04cb. Creating tenant.\n"
     ]
    },
    {
     "name": "stdout",
     "output_type": "stream",
     "text": [
      "✅ Knowledge base updated successfully!\n"
     ]
    }
   ],
   "source": [
    "db = update_vector_store(client=weaviate_client, embeddings=embeddings, documents=docs, tenant=\"solar-system\")"
   ]
  },
  {
   "cell_type": "code",
   "execution_count": 43,
   "metadata": {},
   "outputs": [
    {
     "name": "stdout",
     "output_type": "stream",
     "text": [
      "\n",
      "Document 1:\n",
      "Venus is the hottest planet.\n",
      "\n",
      "Document 2:\n",
      "There are 4 planets made of gas.\n",
      "\n",
      "Document 3:\n",
      "It is made of rock and the others are gas planets.\n",
      "\n",
      "Document 4:\n",
      "Jupiter has a small core and has a thick layer of gas around it.\n"
     ]
    }
   ],
   "source": [
    "query = \"Hottest planet\"\n",
    "docs = db.similarity_search(query, tenant=\"solar-system\")\n",
    "\n",
    "# Print the first 100 characters of each result\n",
    "for i, doc in enumerate(docs):\n",
    "    print(f\"\\nDocument {i+1}:\")\n",
    "    # print(doc.page_content[:100] + \"...\")\n",
    "    print(doc.page_content)"
   ]
  },
  {
   "cell_type": "code",
   "execution_count": 44,
   "metadata": {},
   "outputs": [
    {
     "name": "stderr",
     "output_type": "stream",
     "text": [
      "/Users/anurags/Library/Caches/pypoetry/virtualenvs/book-rag-o4xYDdTl-py3.12/lib/python3.12/site-packages/langsmith/client.py:253: LangSmithMissingAPIKeyWarning: API key must be provided when using hosted LangSmith API\n",
      "  warnings.warn(\n"
     ]
    },
    {
     "name": "stdout",
     "output_type": "stream",
     "text": [
      "You are an assistant for question-answering tasks. Use the following pieces of retrieved context to answer the question. If you don't know the answer, just say that you don't know. Use three sentences maximum and keep the answer concise.\n",
      "Question: (question goes here) \n",
      "Context: (context goes here) \n",
      "Answer:\n"
     ]
    }
   ],
   "source": [
    "from langchain import hub\n",
    "from pydantic import BaseModel\n",
    "from typing import List, Dict\n",
    "\n",
    "prompt = hub.pull(\"rlm/rag-prompt\")\n",
    "\n",
    "example_messages = prompt.invoke(\n",
    "    {\"context\": \"(context goes here)\", \"question\": \"(question goes here)\"}\n",
    ").to_messages()\n",
    "\n",
    "assert len(example_messages) == 1\n",
    "print(example_messages[0].content)"
   ]
  },
  {
   "cell_type": "code",
   "execution_count": 48,
   "metadata": {},
   "outputs": [
    {
     "name": "stderr",
     "output_type": "stream",
     "text": [
      "/Users/anurags/Library/Caches/pypoetry/virtualenvs/book-rag-o4xYDdTl-py3.12/lib/python3.12/site-packages/langsmith/client.py:253: LangSmithMissingAPIKeyWarning: API key must be provided when using hosted LangSmith API\n",
      "  warnings.warn(\n"
     ]
    }
   ],
   "source": [
    "from pydantic import BaseModel\n",
    "from typing import List, Dict, Optional\n",
    "\n",
    "from langchain import hub\n",
    "from langchain_ollama import ChatOllama\n",
    "\n",
    "\n",
    "prompt = hub.pull(\"rlm/rag-prompt\")\n",
    "\n",
    "\n",
    "class State(BaseModel):\n",
    "    question: str\n",
    "    context: Optional[List[Dict]]\n",
    "    answer: str\n",
    "    tenant: str\n",
    "\n",
    "\n",
    "llm = ChatOllama(\n",
    "    model=\"llama3.2:3b\",\n",
    "    temperature=0,\n",
    ")\n",
    "\n",
    "\n",
    "def retrieve(state: State):\n",
    "    retrieved_docs = db.similarity_search(state[\"question\"], tenant=state['tenant'])\n",
    "    return {\"context\": retrieved_docs}\n",
    "\n",
    "\n",
    "def generate(state: State):\n",
    "    docs_content = \"\\n\\n\".join(doc.page_content for doc in state[\"context\"])\n",
    "    messages = prompt.invoke(\n",
    "        {\"question\": state[\"question\"], \"context\": docs_content})\n",
    "    response = llm.invoke(messages)\n",
    "    return {\"answer\": response.content}"
   ]
  },
  {
   "cell_type": "code",
   "execution_count": 49,
   "metadata": {},
   "outputs": [
    {
     "name": "stdout",
     "output_type": "stream",
     "text": [
      "Venus is the hottest planet, with surface temperatures reaching as high as 462°C (863°F). It's primarily composed of rock and has a thick atmosphere that traps heat. This makes Venus significantly hotter than other planets in our solar system.\n"
     ]
    }
   ],
   "source": [
    "state = {'question': \"hottest planet\", 'context': None, 'answer': '', 'tenant': \"solar-system\"}\n",
    "\n",
    "context = retrieve(state)\n",
    "print(\"got the context!!\")\n",
    "state['context'] = context['context']\n",
    "\n",
    "print(generate(state)['answer'])"
   ]
  },
  {
   "cell_type": "code",
   "execution_count": 62,
   "metadata": {},
   "outputs": [
    {
     "name": "stdout",
     "output_type": "stream",
     "text": [
      "{'_client': <weaviate.client.WeaviateClient object at 0x11e144ce0>, '_index_name': 'LangChain_0b0b3243518a4c268131915f0ebe04cb', '_embedding': OllamaEmbeddings(model='nomic-embed-text', base_url=None, client_kwargs={}, mirostat=None, mirostat_eta=None, mirostat_tau=None, num_ctx=None, num_gpu=None, num_thread=None, repeat_last_n=None, repeat_penalty=None, temperature=None, stop=None, tfs_z=None, top_k=None, top_p=None), '_text_key': 'text', '_query_attrs': ['text', 'source', 'seq_num'], 'relevance_score_fn': <function _default_score_normalizer at 0x11c233c40>, '_collection': <weaviate.collections.collection.sync.Collection object at 0x11c84bcb0>, '_multi_tenancy_enabled': True}\n"
     ]
    }
   ],
   "source": [
    "print(db.__dict__)"
   ]
  },
  {
   "cell_type": "code",
   "execution_count": 63,
   "metadata": {},
   "outputs": [],
   "source": [
    "vec_db = WeaviateVectorStore(\n",
    "    client=weaviate_client,\n",
    "    index_name=\"LangChain_0b0b3243518a4c268131915f0ebe04cb\",\n",
    "    text_key='text',\n",
    "    embedding=embeddings\n",
    ")"
   ]
  },
  {
   "cell_type": "code",
   "execution_count": 64,
   "metadata": {},
   "outputs": [],
   "source": [
    "def retrieve(db, state: State):\n",
    "    retrieved_docs = db.similarity_search(state[\"question\"], tenant=state['tenant'])\n",
    "    return {\"context\": retrieved_docs}"
   ]
  },
  {
   "cell_type": "code",
   "execution_count": 67,
   "metadata": {},
   "outputs": [
    {
     "name": "stdout",
     "output_type": "stream",
     "text": [
      "\n",
      "Document 1:\n",
      "Venus is the hottest planet.\n",
      "\n",
      "Document 2:\n",
      "There are 4 planets made of gas.\n",
      "\n",
      "Document 3:\n",
      "It is made of rock and the others are gas planets.\n",
      "\n",
      "Document 4:\n",
      "Jupiter has a small core and has a thick layer of gas around it.\n"
     ]
    }
   ],
   "source": [
    "state = {'question': \"hottest planet\", 'context': None, 'answer': '', 'tenant': \"solar-system\"}\n",
    "\n",
    "context = retrieve(vec_db, state)\n",
    "state['context'] = context['context']\n",
    "\n",
    "# Print the first 100 characters of each result\n",
    "for i, doc in enumerate(context['context']):\n",
    "    print(f\"\\nDocument {i+1}:\")\n",
    "    # print(doc.page_content[:100] + \"...\")\n",
    "    print(doc.page_content)"
   ]
  },
  {
   "cell_type": "code",
   "execution_count": 68,
   "metadata": {},
   "outputs": [
    {
     "name": "stdout",
     "output_type": "stream",
     "text": [
      "Venus is the hottest planet, with surface temperatures reaching as high as 462°C (863°F). It is composed primarily of rock and metal, unlike the other gas giants in our solar system. Jupiter is not considered one of the four gas planets.\n"
     ]
    }
   ],
   "source": [
    "print(generate(state)['answer'])"
   ]
  }
 ],
 "metadata": {
  "kernelspec": {
   "display_name": "book-rag-o4xYDdTl-py3.12",
   "language": "python",
   "name": "python3"
  },
  "language_info": {
   "codemirror_mode": {
    "name": "ipython",
    "version": 3
   },
   "file_extension": ".py",
   "mimetype": "text/x-python",
   "name": "python",
   "nbconvert_exporter": "python",
   "pygments_lexer": "ipython3",
   "version": "3.12.9"
  }
 },
 "nbformat": 4,
 "nbformat_minor": 2
}
