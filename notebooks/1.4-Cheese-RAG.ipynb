{
 "cells": [
  {
   "cell_type": "code",
   "execution_count": 8,
   "metadata": {},
   "outputs": [],
   "source": [
    "import os\n",
    "import pandas as pd\n",
    "import weaviate\n",
    "from langchain_community.document_loaders import CSVLoader\n",
    "from langchain_weaviate.vectorstores import WeaviateVectorStore\n",
    "from langchain_ollama import OllamaEmbeddings"
   ]
  },
  {
   "cell_type": "code",
   "execution_count": 9,
   "metadata": {},
   "outputs": [],
   "source": [
    "DATA_DIR = '../data'\n",
    "\n",
    "UPLOAD_DIR = \"uploads\"\n",
    "\n",
    "UPLOAD_PATH = os.path.join(DATA_DIR, UPLOAD_DIR)\n",
    "\n",
    "os.makedirs(UPLOAD_PATH, exist_ok=True)"
   ]
  },
  {
   "cell_type": "code",
   "execution_count": 10,
   "metadata": {},
   "outputs": [
    {
     "data": {
      "text/html": [
       "<div>\n",
       "<style scoped>\n",
       "    .dataframe tbody tr th:only-of-type {\n",
       "        vertical-align: middle;\n",
       "    }\n",
       "\n",
       "    .dataframe tbody tr th {\n",
       "        vertical-align: top;\n",
       "    }\n",
       "\n",
       "    .dataframe thead th {\n",
       "        text-align: right;\n",
       "    }\n",
       "</style>\n",
       "<table border=\"1\" class=\"dataframe\">\n",
       "  <thead>\n",
       "    <tr style=\"text-align: right;\">\n",
       "      <th></th>\n",
       "      <th>cheese</th>\n",
       "      <th>url</th>\n",
       "      <th>milk</th>\n",
       "      <th>country</th>\n",
       "      <th>region</th>\n",
       "      <th>family</th>\n",
       "      <th>type</th>\n",
       "      <th>fat_content</th>\n",
       "      <th>calcium_content</th>\n",
       "      <th>texture</th>\n",
       "      <th>rind</th>\n",
       "      <th>color</th>\n",
       "      <th>flavor</th>\n",
       "      <th>aroma</th>\n",
       "      <th>vegetarian</th>\n",
       "      <th>vegan</th>\n",
       "      <th>synonyms</th>\n",
       "      <th>alt_spellings</th>\n",
       "      <th>producers</th>\n",
       "    </tr>\n",
       "  </thead>\n",
       "  <tbody>\n",
       "    <tr>\n",
       "      <th>0</th>\n",
       "      <td>Aarewasser</td>\n",
       "      <td>https://www.cheese.com/aarewasser/</td>\n",
       "      <td>cow</td>\n",
       "      <td>Switzerland</td>\n",
       "      <td>NaN</td>\n",
       "      <td>NaN</td>\n",
       "      <td>semi-soft</td>\n",
       "      <td>NaN</td>\n",
       "      <td>NaN</td>\n",
       "      <td>buttery</td>\n",
       "      <td>washed</td>\n",
       "      <td>yellow</td>\n",
       "      <td>sweet</td>\n",
       "      <td>buttery</td>\n",
       "      <td>False</td>\n",
       "      <td>False</td>\n",
       "      <td>NaN</td>\n",
       "      <td>NaN</td>\n",
       "      <td>Jumi</td>\n",
       "    </tr>\n",
       "    <tr>\n",
       "      <th>1</th>\n",
       "      <td>Abbaye de Belloc</td>\n",
       "      <td>https://www.cheese.com/abbaye-de-belloc/</td>\n",
       "      <td>sheep</td>\n",
       "      <td>France</td>\n",
       "      <td>Pays Basque</td>\n",
       "      <td>NaN</td>\n",
       "      <td>semi-hard, artisan</td>\n",
       "      <td>NaN</td>\n",
       "      <td>NaN</td>\n",
       "      <td>creamy, dense, firm</td>\n",
       "      <td>natural</td>\n",
       "      <td>yellow</td>\n",
       "      <td>burnt caramel</td>\n",
       "      <td>lanoline</td>\n",
       "      <td>True</td>\n",
       "      <td>False</td>\n",
       "      <td>Abbaye Notre-Dame de Belloc</td>\n",
       "      <td>NaN</td>\n",
       "      <td>NaN</td>\n",
       "    </tr>\n",
       "    <tr>\n",
       "      <th>2</th>\n",
       "      <td>Abbaye de Belval</td>\n",
       "      <td>https://www.cheese.com/abbaye-de-belval/</td>\n",
       "      <td>cow</td>\n",
       "      <td>France</td>\n",
       "      <td>NaN</td>\n",
       "      <td>NaN</td>\n",
       "      <td>semi-hard</td>\n",
       "      <td>40-46%</td>\n",
       "      <td>NaN</td>\n",
       "      <td>elastic</td>\n",
       "      <td>washed</td>\n",
       "      <td>ivory</td>\n",
       "      <td>NaN</td>\n",
       "      <td>aromatic</td>\n",
       "      <td>False</td>\n",
       "      <td>False</td>\n",
       "      <td>NaN</td>\n",
       "      <td>NaN</td>\n",
       "      <td>NaN</td>\n",
       "    </tr>\n",
       "    <tr>\n",
       "      <th>3</th>\n",
       "      <td>Abbaye de Citeaux</td>\n",
       "      <td>https://www.cheese.com/abbaye-de-citeaux/</td>\n",
       "      <td>cow</td>\n",
       "      <td>France</td>\n",
       "      <td>Burgundy</td>\n",
       "      <td>NaN</td>\n",
       "      <td>semi-soft, artisan, brined</td>\n",
       "      <td>NaN</td>\n",
       "      <td>NaN</td>\n",
       "      <td>creamy, dense, smooth</td>\n",
       "      <td>washed</td>\n",
       "      <td>white</td>\n",
       "      <td>acidic, milky, smooth</td>\n",
       "      <td>barnyardy, earthy</td>\n",
       "      <td>False</td>\n",
       "      <td>False</td>\n",
       "      <td>NaN</td>\n",
       "      <td>NaN</td>\n",
       "      <td>NaN</td>\n",
       "    </tr>\n",
       "    <tr>\n",
       "      <th>4</th>\n",
       "      <td>Abbaye de Tamié</td>\n",
       "      <td>https://www.cheese.com/tamie/</td>\n",
       "      <td>cow</td>\n",
       "      <td>France</td>\n",
       "      <td>Savoie</td>\n",
       "      <td>NaN</td>\n",
       "      <td>soft, artisan</td>\n",
       "      <td>NaN</td>\n",
       "      <td>NaN</td>\n",
       "      <td>creamy, open, smooth</td>\n",
       "      <td>washed</td>\n",
       "      <td>white</td>\n",
       "      <td>fruity, nutty</td>\n",
       "      <td>perfumed, pungent</td>\n",
       "      <td>False</td>\n",
       "      <td>False</td>\n",
       "      <td>NaN</td>\n",
       "      <td>Tamié, Trappiste de Tamie, Abbey of Tamie</td>\n",
       "      <td>NaN</td>\n",
       "    </tr>\n",
       "  </tbody>\n",
       "</table>\n",
       "</div>"
      ],
      "text/plain": [
       "              cheese                                        url   milk  \\\n",
       "0         Aarewasser         https://www.cheese.com/aarewasser/    cow   \n",
       "1   Abbaye de Belloc   https://www.cheese.com/abbaye-de-belloc/  sheep   \n",
       "2   Abbaye de Belval   https://www.cheese.com/abbaye-de-belval/    cow   \n",
       "3  Abbaye de Citeaux  https://www.cheese.com/abbaye-de-citeaux/    cow   \n",
       "4    Abbaye de Tamié              https://www.cheese.com/tamie/    cow   \n",
       "\n",
       "       country       region family                        type fat_content  \\\n",
       "0  Switzerland          NaN    NaN                   semi-soft         NaN   \n",
       "1       France  Pays Basque    NaN          semi-hard, artisan         NaN   \n",
       "2       France          NaN    NaN                   semi-hard      40-46%   \n",
       "3       France     Burgundy    NaN  semi-soft, artisan, brined         NaN   \n",
       "4       France       Savoie    NaN               soft, artisan         NaN   \n",
       "\n",
       "  calcium_content                texture     rind   color  \\\n",
       "0             NaN                buttery   washed  yellow   \n",
       "1             NaN    creamy, dense, firm  natural  yellow   \n",
       "2             NaN                elastic   washed   ivory   \n",
       "3             NaN  creamy, dense, smooth   washed   white   \n",
       "4             NaN   creamy, open, smooth   washed   white   \n",
       "\n",
       "                  flavor              aroma vegetarian  vegan  \\\n",
       "0                  sweet            buttery      False  False   \n",
       "1          burnt caramel           lanoline       True  False   \n",
       "2                    NaN           aromatic      False  False   \n",
       "3  acidic, milky, smooth  barnyardy, earthy      False  False   \n",
       "4          fruity, nutty  perfumed, pungent      False  False   \n",
       "\n",
       "                      synonyms                              alt_spellings  \\\n",
       "0                          NaN                                        NaN   \n",
       "1  Abbaye Notre-Dame de Belloc                                        NaN   \n",
       "2                          NaN                                        NaN   \n",
       "3                          NaN                                        NaN   \n",
       "4                          NaN  Tamié, Trappiste de Tamie, Abbey of Tamie   \n",
       "\n",
       "  producers  \n",
       "0      Jumi  \n",
       "1       NaN  \n",
       "2       NaN  \n",
       "3       NaN  \n",
       "4       NaN  "
      ]
     },
     "metadata": {},
     "output_type": "display_data"
    }
   ],
   "source": [
    "CHEESES_CSV_FILE_PATH = os.path.join(DATA_DIR, \"cheeses.csv\")\n",
    "INDEX_NAME = 'cheeses'\n",
    "TENANT_NAME = 'cheeses'\n",
    "\n",
    "df = pd.read_csv(CHEESES_CSV_FILE_PATH)\n",
    "\n",
    "display(df.head())"
   ]
  },
  {
   "cell_type": "code",
   "execution_count": 11,
   "metadata": {},
   "outputs": [
    {
     "name": "stdout",
     "output_type": "stream",
     "text": [
      "page_content='cheese: Aarewasser\n",
      "url: https://www.cheese.com/aarewasser/\n",
      "milk: cow\n",
      "country: Switzerland\n",
      "region: NA\n",
      "family: NA\n",
      "type: semi-soft\n",
      "fat_content: NA\n",
      "calcium_content: NA\n",
      "texture: buttery\n",
      "rind: washed\n",
      "color: yellow\n",
      "flavor: sweet\n",
      "aroma: buttery\n",
      "vegetarian: FALSE\n",
      "vegan: FALSE\n",
      "synonyms: NA\n",
      "alt_spellings: NA\n",
      "producers: Jumi' metadata={'source': 'https://www.cheese.com/aarewasser/', 'row': 0}\n",
      "page_content='cheese: Abbaye de Belloc\n",
      "url: https://www.cheese.com/abbaye-de-belloc/\n",
      "milk: sheep\n",
      "country: France\n",
      "region: Pays Basque\n",
      "family: NA\n",
      "type: semi-hard, artisan\n",
      "fat_content: NA\n",
      "calcium_content: NA\n",
      "texture: creamy, dense, firm\n",
      "rind: natural\n",
      "color: yellow\n",
      "flavor: burnt caramel\n",
      "aroma: lanoline\n",
      "vegetarian: TRUE\n",
      "vegan: FALSE\n",
      "synonyms: Abbaye Notre-Dame de Belloc\n",
      "alt_spellings: NA\n",
      "producers: NA' metadata={'source': 'https://www.cheese.com/abbaye-de-belloc/', 'row': 1}\n"
     ]
    },
    {
     "data": {
      "text/plain": [
       "1187"
      ]
     },
     "metadata": {},
     "output_type": "display_data"
    }
   ],
   "source": [
    "loader = CSVLoader(file_path=CHEESES_CSV_FILE_PATH, source_column=\"url\")\n",
    "data = loader.load()\n",
    "\n",
    "for record in data[:2]:\n",
    "    print(record)\n",
    "display(len(data))"
   ]
  },
  {
   "cell_type": "code",
   "execution_count": 12,
   "metadata": {},
   "outputs": [],
   "source": [
    "weaviate_client = weaviate.connect_to_local()\n",
    "\n",
    "embeddings = OllamaEmbeddings(\n",
    "    model=\"nomic-embed-text\",\n",
    ")"
   ]
  },
  {
   "cell_type": "code",
   "execution_count": 13,
   "metadata": {},
   "outputs": [
    {
     "name": "stdout",
     "output_type": "stream",
     "text": [
      "[0.043801915, 0.040308535, -0.142904]\n"
     ]
    }
   ],
   "source": [
    "input_text = \"Where is Provolone from?\"\n",
    "vector = embeddings.embed_query(input_text)\n",
    "print(vector[:3])"
   ]
  },
  {
   "cell_type": "code",
   "execution_count": 14,
   "metadata": {},
   "outputs": [],
   "source": [
    "def update_vector_store(client, embeddings, documents, tenant = None):\n",
    "    db_with_mt = WeaviateVectorStore.from_documents(\n",
    "        documents, embeddings, client=client, index_name=INDEX_NAME, tenant=tenant\n",
    "    )\n",
    "\n",
    "    print(\"✅ Knowledge base updated successfully!\")\n",
    "    return db_with_mt\n"
   ]
  },
  {
   "cell_type": "code",
   "execution_count": 15,
   "metadata": {},
   "outputs": [
    {
     "name": "stderr",
     "output_type": "stream",
     "text": [
      "2025-Mar-15 03:53 AM - langchain_weaviate.vectorstores - INFO - Tenant cheeses does not exist in index cheeses. Creating tenant.\n"
     ]
    },
    {
     "name": "stdout",
     "output_type": "stream",
     "text": [
      "✅ Knowledge base updated successfully!\n"
     ]
    }
   ],
   "source": [
    "db = update_vector_store(client=weaviate_client, embeddings=embeddings, documents=data, tenant=TENANT_NAME)"
   ]
  },
  {
   "cell_type": "code",
   "execution_count": 16,
   "metadata": {},
   "outputs": [
    {
     "name": "stdout",
     "output_type": "stream",
     "text": [
      "\n",
      "Document 1:\n",
      "cheese: Bath Soft Cheese\n",
      "url: https://www.cheese.com/bath-soft/\n",
      "milk: cow\n",
      "country: England\n",
      "region: South West England\n",
      "family: Brie\n",
      "type: soft\n",
      "fat_content: NA\n",
      "calcium_content: NA\n",
      "texture: creamy\n",
      "rind: bloomy\n",
      "color: ivory\n",
      "flavor: citrusy, lemony, mushroomy\n",
      "aroma: aromatic, grassy\n",
      "vegetarian: NA\n",
      "vegan: NA\n",
      "synonyms: NA\n",
      "alt_spellings: Bath Soft\n",
      "producers: The Bath Soft Cheese Co.\n",
      "\n",
      "Document 2:\n",
      "cheese: Bath Soft Cheese Truffled\n",
      "url: https://www.cheese.com/bath-soft-cheese-truffled/\n",
      "milk: cow\n",
      "country: United Kingdom\n",
      "region: NA\n",
      "family: Brie\n",
      "type: soft\n",
      "fat_content: NA\n",
      "calcium_content: NA\n",
      "texture: buttery, soft-ripened\n",
      "rind: NA\n",
      "color: white\n",
      "flavor: NA\n",
      "aroma: NA\n",
      "vegetarian: NA\n",
      "vegan: NA\n",
      "synonyms: NA\n",
      "alt_spellings: NA\n",
      "producers: The Bath Soft Cheese Co.\n",
      "\n",
      "Document 3:\n",
      "cheese: Brefu Bach\n",
      "url: https://www.cheese.com/brefu-bach/\n",
      "milk: sheep\n",
      "country: Wales\n",
      "region: NA\n",
      "family: NA\n",
      "type: soft\n",
      "fat_content: NA\n",
      "calcium_content: NA\n",
      "texture: soft\n",
      "rind: NA\n",
      "color: golden yellow\n",
      "flavor: NA\n",
      "aroma: NA\n",
      "vegetarian: NA\n",
      "vegan: NA\n",
      "synonyms: NA\n",
      "alt_spellings: NA\n",
      "producers: NA\n",
      "\n",
      "Document 4:\n",
      "cheese: Bix\n",
      "url: https://www.cheese.com/bix/\n",
      "milk: cow\n",
      "country: United Kingdom\n",
      "region: NA\n",
      "family: NA\n",
      "type: soft, semi-soft\n",
      "fat_content: NA\n",
      "calcium_content: NA\n",
      "texture: buttery, creamy, soft, soft-ripened\n",
      "rind: NA\n",
      "color: pale yellow\n",
      "flavor: NA\n",
      "aroma: NA\n",
      "vegetarian: NA\n",
      "vegan: NA\n",
      "synonyms: NA\n",
      "alt_spellings: NA\n",
      "producers: NA\n"
     ]
    }
   ],
   "source": [
    "query = \"Soft cheese\"\n",
    "docs = db.similarity_search(query, tenant=TENANT_NAME)\n",
    "\n",
    "# Print the first 100 characters of each result\n",
    "for i, doc in enumerate(docs):\n",
    "    print(f\"\\nDocument {i+1}:\")\n",
    "    # print(doc.page_content[:100] + \"...\")\n",
    "    print(doc.page_content)"
   ]
  },
  {
   "cell_type": "code",
   "execution_count": 22,
   "metadata": {},
   "outputs": [
    {
     "name": "stderr",
     "output_type": "stream",
     "text": [
      "/Users/anurags/Library/Caches/pypoetry/virtualenvs/debate-ai-i31yTza7-py3.12/lib/python3.12/site-packages/langsmith/client.py:253: LangSmithMissingAPIKeyWarning: API key must be provided when using hosted LangSmith API\n",
      "  warnings.warn(\n"
     ]
    }
   ],
   "source": [
    "from pydantic import BaseModel\n",
    "from typing import List, Dict, Optional\n",
    "\n",
    "from langchain import hub\n",
    "from langchain_ollama import ChatOllama\n",
    "\n",
    "\n",
    "prompt = hub.pull(\"rlm/rag-prompt\")\n",
    "\n",
    "\n",
    "class State(BaseModel):\n",
    "    question: str\n",
    "    context: Optional[List[Dict]]\n",
    "    answer: str\n",
    "    tenant: str\n",
    "\n",
    "\n",
    "llm = ChatOllama(\n",
    "    model=\"llama3.2:3b\",\n",
    "    temperature=0,\n",
    ")\n",
    "\n",
    "\n",
    "def retrieve(db, state: State):\n",
    "    retrieved_docs = db.similarity_search(state[\"question\"], tenant=state['tenant'])\n",
    "    return {\"context\": retrieved_docs}\n",
    "\n",
    "\n",
    "def generate(state: State):\n",
    "    docs_content = \"\\n\\n\".join(doc.page_content for doc in state[\"context\"])\n",
    "    messages = prompt.invoke(\n",
    "        {\"question\": state[\"question\"], \"context\": docs_content})\n",
    "    response = llm.invoke(messages)\n",
    "    return {\"answer\": response.content}\n",
    "\n",
    "\n",
    "def retrieve_and_generate(user_prompt):\n",
    "    state = {'question': user_prompt, 'context': None, 'answer': '', 'tenant': TENANT_NAME}\n",
    "\n",
    "    context = retrieve(db, state)\n",
    "    state['context'] = context['context']\n",
    "    \n",
    "    ans = generate(state)['answer']\n",
    "    return ans\n",
    "\n",
    "def print_rag(user_prompt, rag_answer):\n",
    "    print(\"Question: \\t{}\".format(user_prompt))\n",
    "    print(\"Answer: \\t{}\".format(rag_answer))"
   ]
  },
  {
   "cell_type": "code",
   "execution_count": 23,
   "metadata": {},
   "outputs": [
    {
     "name": "stdout",
     "output_type": "stream",
     "text": [
      "\n",
      "Document 1:\n",
      "cheese: Bath Soft Cheese\n",
      "url: https://www.cheese.com/bath-soft/\n",
      "milk: cow\n",
      "country: England\n",
      "region: S...\n",
      "\n",
      "Document 2:\n",
      "cheese: Bath Soft Cheese Truffled\n",
      "url: https://www.cheese.com/bath-soft-cheese-truffled/\n",
      "milk: cow\n",
      "c...\n",
      "\n",
      "Document 3:\n",
      "cheese: Brefu Bach\n",
      "url: https://www.cheese.com/brefu-bach/\n",
      "milk: sheep\n",
      "country: Wales\n",
      "region: NA\n",
      "fam...\n",
      "\n",
      "Document 4:\n",
      "cheese: Bix\n",
      "url: https://www.cheese.com/bix/\n",
      "milk: cow\n",
      "country: United Kingdom\n",
      "region: NA\n",
      "family: NA...\n",
      "The Bath Soft Cheese is a type of soft cheese originating from South West England, made from cow's milk. It has a creamy texture and a flavor profile that includes citrusy, lemony, and mushroomy notes. The Bath Soft Cheese Co. produces this cheese.\n"
     ]
    }
   ],
   "source": [
    "state = {'question': \"soft cheese\", 'context': None, 'answer': '', 'tenant': TENANT_NAME}\n",
    "\n",
    "context = retrieve(db, state)\n",
    "# Print the first 100 characters of each result\n",
    "for i, doc in enumerate(context['context']):\n",
    "    print(f\"\\nDocument {i+1}:\")\n",
    "    print(doc.page_content[:100] + \"...\")\n",
    "state['context'] = context['context']\n",
    "\n",
    "print(generate(state)['answer'])"
   ]
  },
  {
   "cell_type": "code",
   "execution_count": 24,
   "metadata": {},
   "outputs": [
    {
     "name": "stdout",
     "output_type": "stream",
     "text": [
      "Question: \tIs Provolone a hard or soft cheese?\n",
      "Answer: \tProvolone is a semi-hard cheese. It has a firm texture and can be described as having a grainy texture in some variations, such as Provolone del Monaco. Its texture is elastic and stringy in other variations like Provolone Mandarino Gran Riserva.\n"
     ]
    }
   ],
   "source": [
    "ques = \"Is Provolone a hard or soft cheese?\"\n",
    "ans = retrieve_and_generate(ques)\n",
    "print_rag(ques, ans)"
   ]
  },
  {
   "cell_type": "code",
   "execution_count": 25,
   "metadata": {},
   "outputs": [
    {
     "name": "stdout",
     "output_type": "stream",
     "text": [
      "Question: \tWhich cheeses are the hardest?\n",
      "Answer: \tI don't know which cheeses are the hardest. The provided context only mentions the texture of some cheeses as \"hard\" or \"semi-hard\", but it doesn't provide a ranking or comparison of their hardness levels. St Tola Hard Cheese is listed as a hard cheese, but its relative hardness compared to others is not specified.\n"
     ]
    }
   ],
   "source": [
    "ques = \"Which cheeses are the hardest?\"\n",
    "ans = retrieve_and_generate(ques)\n",
    "print_rag(ques, ans)"
   ]
  },
  {
   "cell_type": "code",
   "execution_count": 26,
   "metadata": {},
   "outputs": [
    {
     "name": "stdout",
     "output_type": "stream",
     "text": [
      "Question: \tWhere is Provolone from?\n",
      "Answer: \tProvolone cheese originates from Italy, specifically from the Po Valley region and other regions such as Naples, Valpadana, and Veneto. The exact origin of Provolone can vary depending on the specific type or production area. Provolone is a semi-hard, artisanal cheese made from cow's milk.\n"
     ]
    }
   ],
   "source": [
    "ques = \"Where is Provolone from?\"\n",
    "ans = retrieve_and_generate(ques)\n",
    "print_rag(ques, ans)"
   ]
  },
  {
   "cell_type": "code",
   "execution_count": 27,
   "metadata": {},
   "outputs": [
    {
     "name": "stdout",
     "output_type": "stream",
     "text": [
      "Question: \tI need a cheese with low sodium because I have high blood pressure\n",
      "Answer: \tI don't know the sodium content of the cheese you're looking for. The provided context only includes information about Sartori Reserve Black Pepper BellaVitano, Bra Duro DOP, Stella Black Pepper Romano, and San Simón DOP, but not their sodium levels. If you need to check sodium content, I recommend checking a reliable nutrition source or the manufacturer's website for more detailed information.\n"
     ]
    }
   ],
   "source": [
    "ques = \"I need a cheese with low sodium because I have high blood pressure\"\n",
    "ans = retrieve_and_generate(ques)\n",
    "print_rag(ques, ans)"
   ]
  },
  {
   "cell_type": "code",
   "execution_count": 28,
   "metadata": {},
   "outputs": [
    {
     "name": "stdout",
     "output_type": "stream",
     "text": [
      "{'_client': <weaviate.client.WeaviateClient object at 0x164dce4b0>, '_index_name': 'cheeses', '_embedding': OllamaEmbeddings(model='nomic-embed-text', base_url=None, client_kwargs={}, mirostat=None, mirostat_eta=None, mirostat_tau=None, num_ctx=None, num_gpu=None, num_thread=None, repeat_last_n=None, repeat_penalty=None, temperature=None, stop=None, tfs_z=None, top_k=None, top_p=None), '_text_key': 'text', '_query_attrs': ['text', 'source', 'row'], 'relevance_score_fn': <function _default_score_normalizer at 0x165e57380>, '_collection': <weaviate.collections.collection.sync.Collection object at 0x165d32960>, '_multi_tenancy_enabled': True}\n"
     ]
    }
   ],
   "source": [
    "print(db.__dict__)"
   ]
  },
  {
   "cell_type": "markdown",
   "metadata": {},
   "source": [
    "## Previously stored documents"
   ]
  },
  {
   "cell_type": "code",
   "execution_count": null,
   "metadata": {},
   "outputs": [],
   "source": [
    "vec_db = WeaviateVectorStore(\n",
    "    client=weaviate_client,\n",
    "    index_name=INDEX_NAME,\n",
    "    text_key='text',\n",
    "    embedding=embeddings\n",
    ")"
   ]
  }
 ],
 "metadata": {
  "kernelspec": {
   "display_name": "debate-ai-i31yTza7-py3.12",
   "language": "python",
   "name": "python3"
  },
  "language_info": {
   "codemirror_mode": {
    "name": "ipython",
    "version": 3
   },
   "file_extension": ".py",
   "mimetype": "text/x-python",
   "name": "python",
   "nbconvert_exporter": "python",
   "pygments_lexer": "ipython3",
   "version": "3.12.9"
  }
 },
 "nbformat": 4,
 "nbformat_minor": 2
}
